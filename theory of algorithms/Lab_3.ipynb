{
 "cells": [
  {
   "cell_type": "markdown",
   "metadata": {},
   "source": [
    "## Лабораторная работа №3 \n",
    "### DBScan кластеризация\n",
    "### Экономика городов"
   ]
  },
  {
   "cell_type": "code",
   "execution_count": 1,
   "metadata": {},
   "outputs": [],
   "source": [
    "import numpy as np\n",
    "import pandas as pd\n",
    "\n",
    "import matplotlib\n",
    "import matplotlib.pyplot as plt\n",
    "matplotlib.style.use('ggplot')\n",
    "%matplotlib inline\n",
    "\n",
    "import os\n",
    "from sklearn.cluster import DBSCAN\n",
    "from scipy.cluster.hierarchy import dendrogram, linkage, fcluster"
   ]
  },
  {
   "cell_type": "code",
   "execution_count": 2,
   "metadata": {},
   "outputs": [
    {
     "name": "stdout",
     "output_type": "stream",
     "text": [
      "                Work  Price  Salary\n",
      "City                               \n",
      "Amsterdam       1714   65.6    49.0\n",
      "Athens          1792   53.8    30.4\n",
      "Bogota          2152   37.9    11.5\n",
      "Bombay          2052   30.3     5.3\n",
      "Brussels        1708   73.8    50.5\n",
      "Buenos_Aires    1971   56.1    12.5\n",
      "Cairo          -9999   37.1 -9999.0\n",
      "Caracas         2041   61.0    10.9\n",
      "Chicago         1924   73.9    61.9\n",
      "Copenhagen      1717   91.3    62.9\n",
      "Dublin          1759   76.0    41.4\n",
      "Dusseldorf      1693   78.5    60.2\n",
      "Frankfurt       1650   74.5    60.4\n",
      "Geneva          1880   95.9    90.3\n",
      "Helsinki        1667  113.6    66.6\n",
      "Hong_Kong       2375   63.8    27.8\n",
      "Houston         1978   71.9    46.3\n",
      "Jakarta        -9999   43.6 -9999.0\n",
      "Johannesburg    1945   51.1    24.0\n",
      "Kuala_Lumpur    2167   43.5     9.9\n",
      "Lagos           1786   45.2     2.7\n",
      "Lisbon          1742   56.2    18.8\n",
      "London          1737   84.2    46.2\n",
      "Los_Angeles     2068   79.8    65.2\n",
      "Luxembourg      1768   71.1    71.1\n",
      "Madrid          1710   93.8    50.0\n",
      "Manila          2268   40.0     4.0\n",
      "Mexico_City     1944   49.8     5.7\n",
      "Milan           1773   82.0    53.3\n",
      "Montreal        1827   72.7    56.3\n",
      "Nairobi         1958   45.0     5.8\n",
      "New_York        1942   83.3    65.8\n",
      "Nicosia         1825   47.9    28.3\n",
      "Oslo            1583  115.5    63.7\n",
      "Panama          2078   49.2    13.8\n",
      "Paris           1744   81.6    45.9\n",
      "Rio_de_Janeiro  1749   46.3    10.5\n",
      "San_Paulo       1856   48.9    11.1\n",
      "Seoul           1842   58.3    32.7\n",
      "Singpore        2042   64.4    16.1\n",
      "Stockholm       1805  111.3    39.2\n",
      "Sydney          1668   70.8    52.1\n",
      "Taipei          2145   84.3    34.5\n",
      "Tel_Aviv        2015   67.3    27.0\n",
      "Tokyo           1880  115.0    68.0\n",
      "Toronto         1888   70.2    58.2\n",
      "Vienna          1780   78.0    51.3\n",
      "Zurich          1868  100.0   100.0\n"
     ]
    }
   ],
   "source": [
    "df = pd.read_csv(\"Econom_Cities_data.csv\", sep=\";\", decimal=',', index_col='City')\n",
    "print(df)"
   ]
  },
  {
   "cell_type": "markdown",
   "metadata": {},
   "source": [
    "Проверим корректность данных. Можно заметить что в Cairo и Jakarta отрицательные Work и Price. Исключим их из выборки."
   ]
  },
  {
   "cell_type": "code",
   "execution_count": 3,
   "metadata": {},
   "outputs": [],
   "source": [
    "df = df.drop(index=[\"Jakarta\",\"Cairo\"])"
   ]
  },
  {
   "cell_type": "markdown",
   "metadata": {},
   "source": [
    "Стандартизируем данные, поскольку данные из солбца Work значительно отличаются от данных в столбцах Salary и Price "
   ]
  },
  {
   "cell_type": "code",
   "execution_count": 4,
   "metadata": {},
   "outputs": [
    {
     "data": {
      "text/html": [
       "<div>\n",
       "<style scoped>\n",
       "    .dataframe tbody tr th:only-of-type {\n",
       "        vertical-align: middle;\n",
       "    }\n",
       "\n",
       "    .dataframe tbody tr th {\n",
       "        vertical-align: top;\n",
       "    }\n",
       "\n",
       "    .dataframe thead th {\n",
       "        text-align: right;\n",
       "    }\n",
       "</style>\n",
       "<table border=\"1\" class=\"dataframe\">\n",
       "  <thead>\n",
       "    <tr style=\"text-align: right;\">\n",
       "      <th></th>\n",
       "      <th>Work</th>\n",
       "      <th>Price</th>\n",
       "      <th>Salary</th>\n",
       "    </tr>\n",
       "    <tr>\n",
       "      <th>City</th>\n",
       "      <th></th>\n",
       "      <th></th>\n",
       "      <th></th>\n",
       "    </tr>\n",
       "  </thead>\n",
       "  <tbody>\n",
       "    <tr>\n",
       "      <th>Amsterdam</th>\n",
       "      <td>-0.962166</td>\n",
       "      <td>-0.212712</td>\n",
       "      <td>0.386095</td>\n",
       "    </tr>\n",
       "    <tr>\n",
       "      <th>Athens</th>\n",
       "      <td>-0.509827</td>\n",
       "      <td>-0.770489</td>\n",
       "      <td>-0.373488</td>\n",
       "    </tr>\n",
       "    <tr>\n",
       "      <th>Bogota</th>\n",
       "      <td>1.577891</td>\n",
       "      <td>-1.522069</td>\n",
       "      <td>-1.145323</td>\n",
       "    </tr>\n",
       "    <tr>\n",
       "      <th>Bombay</th>\n",
       "      <td>0.997969</td>\n",
       "      <td>-1.881316</td>\n",
       "      <td>-1.398517</td>\n",
       "    </tr>\n",
       "    <tr>\n",
       "      <th>Brussels</th>\n",
       "      <td>-0.996961</td>\n",
       "      <td>0.174896</td>\n",
       "      <td>0.447351</td>\n",
       "    </tr>\n",
       "  </tbody>\n",
       "</table>\n",
       "</div>"
      ],
      "text/plain": [
       "               Work     Price    Salary\n",
       "City                                   \n",
       "Amsterdam -0.962166 -0.212712  0.386095\n",
       "Athens    -0.509827 -0.770489 -0.373488\n",
       "Bogota     1.577891 -1.522069 -1.145323\n",
       "Bombay     0.997969 -1.881316 -1.398517\n",
       "Brussels  -0.996961  0.174896  0.447351"
      ]
     },
     "execution_count": 4,
     "metadata": {},
     "output_type": "execute_result"
    }
   ],
   "source": [
    "from sklearn import preprocessing\n",
    "stand_1 = preprocessing.StandardScaler()\n",
    "stand_1.fit(df)\n",
    "X = stand_1.transform(df)\n",
    "X = pd.DataFrame(X, index=df.index, columns=df.columns)\n",
    "X.head()"
   ]
  },
  {
   "cell_type": "markdown",
   "metadata": {},
   "source": [
    "#### Подбираем параметры. Первый шаг."
   ]
  },
  {
   "cell_type": "code",
   "execution_count": 5,
   "metadata": {},
   "outputs": [
    {
     "data": {
      "text/plain": [
       "array([ 0,  0,  0,  0,  0,  0,  0,  0,  0,  0,  0,  0, -1, -1, -1,  0,  0,\n",
       "        0,  0,  0,  0,  0,  0,  0,  0,  0,  0,  0,  0,  0,  0, -1,  0,  0,\n",
       "        0,  0,  0,  0, -1,  0, -1,  0, -1,  0,  0, -1], dtype=int64)"
      ]
     },
     "execution_count": 5,
     "metadata": {},
     "output_type": "execute_result"
    }
   ],
   "source": [
    "dbscan_1 = DBSCAN(eps=1, metric='euclidean', min_samples=5)\n",
    "\n",
    "dbscan_1.fit(X)\n",
    "dbscan_1.labels_"
   ]
  },
  {
   "cell_type": "markdown",
   "metadata": {},
   "source": [
    "Таблица частот"
   ]
  },
  {
   "cell_type": "code",
   "execution_count": 6,
   "metadata": {},
   "outputs": [
    {
     "name": "stdout",
     "output_type": "stream",
     "text": [
      "[[-1  8]\n",
      " [ 0 38]]\n"
     ]
    }
   ],
   "source": [
    "unique, counts = np.unique(dbscan_1.labels_, return_counts=True)\n",
    "print(np.asarray((unique, counts)).T)"
   ]
  },
  {
   "cell_type": "markdown",
   "metadata": {},
   "source": [
    "Получили только два кластера. Данные в них слишком отличаются поэтому попробуем уменьшить эпсилон"
   ]
  },
  {
   "cell_type": "code",
   "execution_count": 7,
   "metadata": {},
   "outputs": [
    {
     "data": {
      "text/plain": [
       "array([ 0,  1,  1,  1,  0,  1,  1,  0,  0,  0,  0,  0, -1, -1, -1,  0,  1,\n",
       "        1,  1,  1,  0, -1,  0,  0,  1,  1,  0,  0,  1,  0,  1, -1,  1,  0,\n",
       "        1,  1,  1,  1, -1,  0, -1,  1, -1,  0,  0, -1], dtype=int64)"
      ]
     },
     "execution_count": 7,
     "metadata": {},
     "output_type": "execute_result"
    }
   ],
   "source": [
    "dbscan_1 = DBSCAN(eps=0.75, metric='euclidean', min_samples=5)\n",
    "dbscan_1.fit(X)\n",
    "dbscan_1.labels_"
   ]
  },
  {
   "cell_type": "markdown",
   "metadata": {},
   "source": [
    "Таблица частот"
   ]
  },
  {
   "cell_type": "code",
   "execution_count": 8,
   "metadata": {},
   "outputs": [
    {
     "name": "stdout",
     "output_type": "stream",
     "text": [
      "[[-1  9]\n",
      " [ 0 18]\n",
      " [ 1 19]]\n"
     ]
    }
   ],
   "source": [
    "unique, counts = np.unique(dbscan_1.labels_, return_counts=True)\n",
    "print(np.asarray((unique, counts)).T)"
   ]
  },
  {
   "cell_type": "markdown",
   "metadata": {},
   "source": [
    "Уменьшим min_samples пока не увеличится число кластеров"
   ]
  },
  {
   "cell_type": "code",
   "execution_count": 9,
   "metadata": {},
   "outputs": [
    {
     "name": "stdout",
     "output_type": "stream",
     "text": [
      "[[-1  4]\n",
      " [ 0 19]\n",
      " [ 1 19]\n",
      " [ 2  2]\n",
      " [ 3  2]]\n"
     ]
    }
   ],
   "source": [
    "dbscan_1 = DBSCAN(eps=0.75, metric='euclidean', min_samples=2)\n",
    "dbscan_1.fit(X)\n",
    "dbscan_1.labels_\n",
    "unique, counts = np.unique(dbscan_1.labels_, return_counts=True)\n",
    "print(np.asarray((unique, counts)).T)"
   ]
  },
  {
   "cell_type": "markdown",
   "metadata": {},
   "source": [
    "Информация о последовательном слиянии кластеров"
   ]
  },
  {
   "cell_type": "code",
   "execution_count": 10,
   "metadata": {},
   "outputs": [],
   "source": [
    "link = linkage(df, 'ward', 'euclidean')"
   ]
  },
  {
   "cell_type": "markdown",
   "metadata": {},
   "source": [
    "Информация о кластерах dbscan добавляется в таблицу данных в виде столбца"
   ]
  },
  {
   "cell_type": "code",
   "execution_count": 11,
   "metadata": {},
   "outputs": [
    {
     "name": "stdout",
     "output_type": "stream",
     "text": [
      "                Work  Price  Salary  dbscan_1\n",
      "City                                         \n",
      "Amsterdam       1714   65.6    49.0         0\n",
      "Athens          1792   53.8    30.4         1\n",
      "Bogota          2152   37.9    11.5         1\n",
      "Bombay          2052   30.3     5.3         1\n",
      "Brussels        1708   73.8    50.5         0\n",
      "Buenos_Aires    1971   56.1    12.5         1\n",
      "Caracas         2041   61.0    10.9         1\n",
      "Chicago         1924   73.9    61.9         0\n",
      "Copenhagen      1717   91.3    62.9         0\n",
      "Dublin          1759   76.0    41.4         0\n",
      "Dusseldorf      1693   78.5    60.2         0\n",
      "Frankfurt       1650   74.5    60.4         0\n",
      "Geneva          1880   95.9    90.3         2\n",
      "Helsinki        1667  113.6    66.6         3\n",
      "Hong_Kong       2375   63.8    27.8        -1\n",
      "Houston         1978   71.9    46.3         0\n",
      "Johannesburg    1945   51.1    24.0         1\n",
      "Kuala_Lumpur    2167   43.5     9.9         1\n",
      "Lagos           1786   45.2     2.7         1\n",
      "Lisbon          1742   56.2    18.8         1\n",
      "London          1737   84.2    46.2         0\n",
      "Los_Angeles     2068   79.8    65.2         0\n",
      "Luxembourg      1768   71.1    71.1         0\n",
      "Madrid          1710   93.8    50.0         0\n",
      "Manila          2268   40.0     4.0         1\n",
      "Mexico_City     1944   49.8     5.7         1\n",
      "Milan           1773   82.0    53.3         0\n",
      "Montreal        1827   72.7    56.3         0\n",
      "Nairobi         1958   45.0     5.8         1\n",
      "New_York        1942   83.3    65.8         0\n",
      "Nicosia         1825   47.9    28.3         1\n",
      "Oslo            1583  115.5    63.7         3\n",
      "Panama          2078   49.2    13.8         1\n",
      "Paris           1744   81.6    45.9         0\n",
      "Rio_de_Janeiro  1749   46.3    10.5         1\n",
      "San_Paulo       1856   48.9    11.1         1\n",
      "Seoul           1842   58.3    32.7         1\n",
      "Singpore        2042   64.4    16.1         1\n",
      "Stockholm       1805  111.3    39.2        -1\n",
      "Sydney          1668   70.8    52.1         0\n",
      "Taipei          2145   84.3    34.5        -1\n",
      "Tel_Aviv        2015   67.3    27.0         1\n",
      "Tokyo           1880  115.0    68.0        -1\n",
      "Toronto         1888   70.2    58.2         0\n",
      "Vienna          1780   78.0    51.3         0\n",
      "Zurich          1868  100.0   100.0         2\n"
     ]
    }
   ],
   "source": [
    "df['dbscan_1'] = dbscan_1.labels_\n",
    "print(df)"
   ]
  },
  {
   "cell_type": "code",
   "execution_count": 12,
   "metadata": {},
   "outputs": [
    {
     "name": "stdout",
     "output_type": "stream",
     "text": [
      "dbscan_1  -1   0   1   2   3\n",
      "row_0                       \n",
      "-1         4   0   0   0   0\n",
      " 0         0  19   0   0   0\n",
      " 1         0   0  19   0   0\n",
      " 2         0   0   0   2   0\n",
      " 3         0   0   0   0   2\n"
     ]
    }
   ],
   "source": [
    "tab = pd.crosstab(dbscan_1.labels_, df['dbscan_1'])\n",
    "print(tab)"
   ]
  },
  {
   "cell_type": "code",
   "execution_count": 13,
   "metadata": {},
   "outputs": [
    {
     "data": {
      "text/plain": [
       "City\n",
       "Tokyo            -1\n",
       "Taipei           -1\n",
       "Stockholm        -1\n",
       "Hong_Kong        -1\n",
       "Amsterdam         0\n",
       "Toronto           0\n",
       "Sydney            0\n",
       "Paris             0\n",
       "New_York          0\n",
       "Montreal          0\n",
       "Milan             0\n",
       "Madrid            0\n",
       "Vienna            0\n",
       "Los_Angeles       0\n",
       "London            0\n",
       "Luxembourg        0\n",
       "Houston           0\n",
       "Chicago           0\n",
       "Copenhagen        0\n",
       "Brussels          0\n",
       "Frankfurt         0\n",
       "Dusseldorf        0\n",
       "Dublin            0\n",
       "Johannesburg      1\n",
       "Seoul             1\n",
       "Buenos_Aires      1\n",
       "San_Paulo         1\n",
       "Bombay            1\n",
       "Tel_Aviv          1\n",
       "Bogota            1\n",
       "Athens            1\n",
       "Singpore          1\n",
       "Rio_de_Janeiro    1\n",
       "Nicosia           1\n",
       "Panama            1\n",
       "Nairobi           1\n",
       "Mexico_City       1\n",
       "Manila            1\n",
       "Lisbon            1\n",
       "Lagos             1\n",
       "Kuala_Lumpur      1\n",
       "Caracas           1\n",
       "Geneva            2\n",
       "Zurich            2\n",
       "Oslo              3\n",
       "Helsinki          3\n",
       "Name: dbscan_1, dtype: int64"
      ]
     },
     "execution_count": 13,
     "metadata": {},
     "output_type": "execute_result"
    }
   ],
   "source": [
    "df['dbscan_1'].sort_values()"
   ]
  },
  {
   "cell_type": "markdown",
   "metadata": {},
   "source": [
    "Усредним значения для анализа"
   ]
  },
  {
   "cell_type": "code",
   "execution_count": 14,
   "metadata": {},
   "outputs": [
    {
     "data": {
      "text/html": [
       "<div>\n",
       "<style scoped>\n",
       "    .dataframe tbody tr th:only-of-type {\n",
       "        vertical-align: middle;\n",
       "    }\n",
       "\n",
       "    .dataframe tbody tr th {\n",
       "        vertical-align: top;\n",
       "    }\n",
       "\n",
       "    .dataframe thead th {\n",
       "        text-align: right;\n",
       "    }\n",
       "</style>\n",
       "<table border=\"1\" class=\"dataframe\">\n",
       "  <thead>\n",
       "    <tr style=\"text-align: right;\">\n",
       "      <th></th>\n",
       "      <th>Work</th>\n",
       "      <th>Price</th>\n",
       "      <th>Salary</th>\n",
       "    </tr>\n",
       "    <tr>\n",
       "      <th>dbscan_1</th>\n",
       "      <th></th>\n",
       "      <th></th>\n",
       "      <th></th>\n",
       "    </tr>\n",
       "  </thead>\n",
       "  <tbody>\n",
       "    <tr>\n",
       "      <th>-1</th>\n",
       "      <td>2051.250000</td>\n",
       "      <td>93.600000</td>\n",
       "      <td>42.375000</td>\n",
       "    </tr>\n",
       "    <tr>\n",
       "      <th>0</th>\n",
       "      <td>1792.000000</td>\n",
       "      <td>77.526316</td>\n",
       "      <td>55.157895</td>\n",
       "    </tr>\n",
       "    <tr>\n",
       "      <th>1</th>\n",
       "      <td>1959.210526</td>\n",
       "      <td>50.115789</td>\n",
       "      <td>14.789474</td>\n",
       "    </tr>\n",
       "    <tr>\n",
       "      <th>2</th>\n",
       "      <td>1874.000000</td>\n",
       "      <td>97.950000</td>\n",
       "      <td>95.150000</td>\n",
       "    </tr>\n",
       "    <tr>\n",
       "      <th>3</th>\n",
       "      <td>1625.000000</td>\n",
       "      <td>114.550000</td>\n",
       "      <td>65.150000</td>\n",
       "    </tr>\n",
       "  </tbody>\n",
       "</table>\n",
       "</div>"
      ],
      "text/plain": [
       "                 Work       Price     Salary\n",
       "dbscan_1                                    \n",
       "-1        2051.250000   93.600000  42.375000\n",
       " 0        1792.000000   77.526316  55.157895\n",
       " 1        1959.210526   50.115789  14.789474\n",
       " 2        1874.000000   97.950000  95.150000\n",
       " 3        1625.000000  114.550000  65.150000"
      ]
     },
     "execution_count": 14,
     "metadata": {},
     "output_type": "execute_result"
    }
   ],
   "source": [
    "df.groupby('dbscan_1').mean()"
   ]
  },
  {
   "cell_type": "code",
   "execution_count": 15,
   "metadata": {},
   "outputs": [
    {
     "name": "stdout",
     "output_type": "stream",
     "text": [
      "Медиана work =  1849.0\n",
      "Медиана price =  70.94999999999999\n",
      "Медиана salary =  43.65\n"
     ]
    }
   ],
   "source": [
    "print ('Медиана work = ',df['Work'].median())\n",
    "print ('Медиана price = ',df['Price'].median())\n",
    "print ('Медиана salary = ',df['Salary'].median())"
   ]
  },
  {
   "cell_type": "markdown",
   "metadata": {},
   "source": [
    "### в -1 группе\n",
    "С высоким рабочим средневзвешенным, высокими ценами и средней зарплатой\n",
    "В эту группу входят Токио, Тайпей, Гонк-Конг и Стокгольм\n",
    "\n",
    "### в 0 группе\n",
    "города  с низким рабочим средневзвешенным, низкими показателями цен и средней зарплатой\n",
    "В эту группу входят крупные города Европы, Северной Америки, Сидней и Монреаль\n",
    "### в 1 группе\n",
    "Города с высоким рабочим средневзвешенным, низкими показателями цен и заработных плат\n",
    "В эту группу входят города Южной Америки, Юго-Восточной Азии и Африки,Кипра, города Сеул и Лагос \n",
    "\n",
    "### в 2 города\n",
    "Со средним рабочим средневзвешенным, высокими ценами и зарплатой\n",
    "В эту группу входят крупные города Швейцарии: Женева и Цюрих\n",
    "\n",
    "### в 3 группе\n",
    "Низкое рабочее средневзвешенное, высокие показатели цен и заработной платы. \n",
    "В эту группу входят города Скандинавии: Осло и Хельсинки"
   ]
  }
 ],
 "metadata": {
  "kernelspec": {
   "display_name": "Python 3",
   "language": "python",
   "name": "python3"
  },
  "language_info": {
   "codemirror_mode": {
    "name": "ipython",
    "version": 3
   },
   "file_extension": ".py",
   "mimetype": "text/x-python",
   "name": "python",
   "nbconvert_exporter": "python",
   "pygments_lexer": "ipython3",
   "version": "3.8.5"
  }
 },
 "nbformat": 4,
 "nbformat_minor": 4
}
