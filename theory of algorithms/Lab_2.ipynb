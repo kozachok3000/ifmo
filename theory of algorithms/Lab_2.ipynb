{
 "cells": [
  {
   "cell_type": "markdown",
   "metadata": {},
   "source": [
    "## Лабораторная работа №2  \n",
    "### Кластеризация методом k-means\n",
    "### Экономика городов"
   ]
  },
  {
   "cell_type": "markdown",
   "metadata": {},
   "source": [
    "Импортируем необходимые библиотеки."
   ]
  },
  {
   "cell_type": "code",
   "execution_count": 1,
   "metadata": {},
   "outputs": [],
   "source": [
    "import numpy as np\n",
    "import pandas as pd\n",
    "\n",
    "import matplotlib\n",
    "import matplotlib.pyplot as plt\n",
    "matplotlib.style.use('ggplot')\n",
    "%matplotlib inline\n",
    "\n",
    "from sklearn.cluster import KMeans\n",
    "import os"
   ]
  },
  {
   "cell_type": "code",
   "execution_count": 2,
   "metadata": {},
   "outputs": [
    {
     "name": "stdout",
     "output_type": "stream",
     "text": [
      "                Work  Price  Salary\n",
      "City                               \n",
      "Amsterdam       1714   65.6    49.0\n",
      "Athens          1792   53.8    30.4\n",
      "Bogota          2152   37.9    11.5\n",
      "Bombay          2052   30.3     5.3\n",
      "Brussels        1708   73.8    50.5\n",
      "Buenos_Aires    1971   56.1    12.5\n",
      "Cairo          -9999   37.1 -9999.0\n",
      "Caracas         2041   61.0    10.9\n",
      "Chicago         1924   73.9    61.9\n",
      "Copenhagen      1717   91.3    62.9\n",
      "Dublin          1759   76.0    41.4\n",
      "Dusseldorf      1693   78.5    60.2\n",
      "Frankfurt       1650   74.5    60.4\n",
      "Geneva          1880   95.9    90.3\n",
      "Helsinki        1667  113.6    66.6\n",
      "Hong_Kong       2375   63.8    27.8\n",
      "Houston         1978   71.9    46.3\n",
      "Jakarta        -9999   43.6 -9999.0\n",
      "Johannesburg    1945   51.1    24.0\n",
      "Kuala_Lumpur    2167   43.5     9.9\n",
      "Lagos           1786   45.2     2.7\n",
      "Lisbon          1742   56.2    18.8\n",
      "London          1737   84.2    46.2\n",
      "Los_Angeles     2068   79.8    65.2\n",
      "Luxembourg      1768   71.1    71.1\n",
      "Madrid          1710   93.8    50.0\n",
      "Manila          2268   40.0     4.0\n",
      "Mexico_City     1944   49.8     5.7\n",
      "Milan           1773   82.0    53.3\n",
      "Montreal        1827   72.7    56.3\n",
      "Nairobi         1958   45.0     5.8\n",
      "New_York        1942   83.3    65.8\n",
      "Nicosia         1825   47.9    28.3\n",
      "Oslo            1583  115.5    63.7\n",
      "Panama          2078   49.2    13.8\n",
      "Paris           1744   81.6    45.9\n",
      "Rio_de_Janeiro  1749   46.3    10.5\n",
      "San_Paulo       1856   48.9    11.1\n",
      "Seoul           1842   58.3    32.7\n",
      "Singpore        2042   64.4    16.1\n",
      "Stockholm       1805  111.3    39.2\n",
      "Sydney          1668   70.8    52.1\n",
      "Taipei          2145   84.3    34.5\n",
      "Tel_Aviv        2015   67.3    27.0\n",
      "Tokyo           1880  115.0    68.0\n",
      "Toronto         1888   70.2    58.2\n",
      "Vienna          1780   78.0    51.3\n",
      "Zurich          1868  100.0   100.0\n"
     ]
    }
   ],
   "source": [
    "df = pd.read_csv(\"Econom_Cities_data.csv\", sep=\";\", decimal=',', index_col='City')\n",
    "print(df)"
   ]
  },
  {
   "cell_type": "markdown",
   "metadata": {},
   "source": [
    "Проверим корректность данных. Можно заметить что в Cairo и Jakarta отрицательные Work и Price. Исключим их из выборки."
   ]
  },
  {
   "cell_type": "code",
   "execution_count": 3,
   "metadata": {},
   "outputs": [],
   "source": [
    "df = df.drop(index=[\"Jakarta\",\"Cairo\"])\n",
    "from sklearn import preprocessing"
   ]
  },
  {
   "cell_type": "markdown",
   "metadata": {},
   "source": [
    "Стандартизируем данные"
   ]
  },
  {
   "cell_type": "code",
   "execution_count": 4,
   "metadata": {},
   "outputs": [],
   "source": [
    "stand_1 = preprocessing.StandardScaler()\n",
    "# вычисляем параметры стандартизации \n",
    "stand_1.fit(df)\n",
    "# преобразуем данные\n",
    "X1 = stand_1.transform(df)\n",
    "# Преобразуем её в объект класса pandas.DataFrame.\n",
    "X1 = pd.DataFrame(X1, index=df.index, columns=df.columns)"
   ]
  },
  {
   "cell_type": "markdown",
   "metadata": {},
   "source": [
    "Применим модель для разного числа кластеров, чтобы построить график каменистой осыпи."
   ]
  },
  {
   "cell_type": "code",
   "execution_count": 5,
   "metadata": {},
   "outputs": [
    {
     "data": {
      "image/png": "[encoded data removed]",
      "text/plain": [
       "<Figure size 432x288 with 1 Axes>"
      ]
     },
     "metadata": {
      "needs_background": "light"
     },
     "output_type": "display_data"
    }
   ],
   "source": [
    "X1.head()\n",
    "#Построим график для определения числа кластеров\n",
    "K = range(2, 11)\n",
    "models = [KMeans(n_clusters=k, random_state=42).fit(X1) for k in K]\n",
    "dist = [model.inertia_ for model in models]\n",
    "\n",
    "# Plot the elbow\n",
    "plt.plot(K, dist, marker='o')\n",
    "plt.xlabel('k')\n",
    "plt.ylabel('Sum of distances')\n",
    "plt.title('The Elbow Method showing the optimal k')\n",
    "plt.show()"
   ]
  },
  {
   "cell_type": "markdown",
   "metadata": {},
   "source": [
    "По графику видно, что начиная с к= 5 значения расстояний уменьшаются \n",
    "медленнее, значит число кластеров равно 5. \n",
    "С другой стороны, начиная с 7 график начинает меняться еще медленнее, \n",
    "Поэтому для проверки данных положим k=7\n",
    "Выпоним кластеризация данных методом k-means"
   ]
  },
  {
   "cell_type": "code",
   "execution_count": 6,
   "metadata": {},
   "outputs": [],
   "source": [
    "from sklearn.cluster import KMeans\n",
    "# инициализация модели. По аналогии с предыдущей работой предполагаем, что кластеров 6\n",
    "model = KMeans(n_clusters=5, random_state=42, max_iter=300, n_init=10, verbose=0 )"
   ]
  },
  {
   "cell_type": "code",
   "execution_count": 7,
   "metadata": {},
   "outputs": [
    {
     "data": {
      "text/plain": [
       "KMeans(n_clusters=5, random_state=42)"
      ]
     },
     "execution_count": 7,
     "metadata": {},
     "output_type": "execute_result"
    }
   ],
   "source": [
    "model.fit(X1)"
   ]
  },
  {
   "cell_type": "code",
   "execution_count": 8,
   "metadata": {},
   "outputs": [
    {
     "data": {
      "text/html": [
       "<div>\n",
       "<style scoped>\n",
       "    .dataframe tbody tr th:only-of-type {\n",
       "        vertical-align: middle;\n",
       "    }\n",
       "\n",
       "    .dataframe tbody tr th {\n",
       "        vertical-align: top;\n",
       "    }\n",
       "\n",
       "    .dataframe thead th {\n",
       "        text-align: right;\n",
       "    }\n",
       "</style>\n",
       "<table border=\"1\" class=\"dataframe\">\n",
       "  <thead>\n",
       "    <tr style=\"text-align: right;\">\n",
       "      <th></th>\n",
       "      <th>Work</th>\n",
       "      <th>Price</th>\n",
       "      <th>Salary</th>\n",
       "    </tr>\n",
       "    <tr>\n",
       "      <th>cluster</th>\n",
       "      <th></th>\n",
       "      <th></th>\n",
       "      <th></th>\n",
       "    </tr>\n",
       "  </thead>\n",
       "  <tbody>\n",
       "    <tr>\n",
       "      <th>0</th>\n",
       "      <td>1780.500000</td>\n",
       "      <td>108.550000</td>\n",
       "      <td>71.300000</td>\n",
       "    </tr>\n",
       "    <tr>\n",
       "      <th>1</th>\n",
       "      <td>1855.454545</td>\n",
       "      <td>50.781818</td>\n",
       "      <td>16.590909</td>\n",
       "    </tr>\n",
       "    <tr>\n",
       "      <th>2</th>\n",
       "      <td>2146.875000</td>\n",
       "      <td>48.762500</td>\n",
       "      <td>12.412500</td>\n",
       "    </tr>\n",
       "    <tr>\n",
       "      <th>3</th>\n",
       "      <td>1994.285714</td>\n",
       "      <td>75.814286</td>\n",
       "      <td>51.271429</td>\n",
       "    </tr>\n",
       "    <tr>\n",
       "      <th>4</th>\n",
       "      <td>1732.000000</td>\n",
       "      <td>78.135714</td>\n",
       "      <td>53.614286</td>\n",
       "    </tr>\n",
       "  </tbody>\n",
       "</table>\n",
       "</div>"
      ],
      "text/plain": [
       "                Work       Price     Salary\n",
       "cluster                                    \n",
       "0        1780.500000  108.550000  71.300000\n",
       "1        1855.454545   50.781818  16.590909\n",
       "2        2146.875000   48.762500  12.412500\n",
       "3        1994.285714   75.814286  51.271429\n",
       "4        1732.000000   78.135714  53.614286"
      ]
     },
     "execution_count": 8,
     "metadata": {},
     "output_type": "execute_result"
    }
   ],
   "source": [
    "df['cluster'] = model.labels_\n",
    "df.groupby('cluster').mean()"
   ]
  },
  {
   "cell_type": "markdown",
   "metadata": {},
   "source": [
    "### Таблица частот"
   ]
  },
  {
   "cell_type": "code",
   "execution_count": 9,
   "metadata": {},
   "outputs": [
    {
     "data": {
      "text/plain": [
       "cluster\n",
       "0     6\n",
       "1    11\n",
       "2     8\n",
       "3     7\n",
       "4    14\n",
       "dtype: int64"
      ]
     },
     "execution_count": 9,
     "metadata": {},
     "output_type": "execute_result"
    }
   ],
   "source": [
    "df.groupby('cluster').size()"
   ]
  },
  {
   "cell_type": "code",
   "execution_count": 10,
   "metadata": {},
   "outputs": [
    {
     "data": {
      "text/plain": [
       "City\n",
       "Zurich            0\n",
       "Stockholm         0\n",
       "Tokyo             0\n",
       "Oslo              0\n",
       "Geneva            0\n",
       "Helsinki          0\n",
       "Nicosia           1\n",
       "Nairobi           1\n",
       "Rio_de_Janeiro    1\n",
       "San_Paulo         1\n",
       "Mexico_City       1\n",
       "Seoul             1\n",
       "Lisbon            1\n",
       "Lagos             1\n",
       "Johannesburg      1\n",
       "Athens            1\n",
       "Buenos_Aires      1\n",
       "Caracas           2\n",
       "Bogota            2\n",
       "Bombay            2\n",
       "Manila            2\n",
       "Hong_Kong         2\n",
       "Panama            2\n",
       "Kuala_Lumpur      2\n",
       "Singpore          2\n",
       "Los_Angeles       3\n",
       "Chicago           3\n",
       "Tel_Aviv          3\n",
       "Toronto           3\n",
       "Taipei            3\n",
       "New_York          3\n",
       "Houston           3\n",
       "Sydney            4\n",
       "Amsterdam         4\n",
       "Montreal          4\n",
       "Milan             4\n",
       "Madrid            4\n",
       "Vienna            4\n",
       "London            4\n",
       "Frankfurt         4\n",
       "Dusseldorf        4\n",
       "Dublin            4\n",
       "Copenhagen        4\n",
       "Brussels          4\n",
       "Paris             4\n",
       "Luxembourg        4\n",
       "Name: cluster, dtype: int32"
      ]
     },
     "execution_count": 10,
     "metadata": {},
     "output_type": "execute_result"
    }
   ],
   "source": [
    "df['cluster'].sort_values()"
   ]
  },
  {
   "cell_type": "code",
   "execution_count": 11,
   "metadata": {},
   "outputs": [
    {
     "name": "stdout",
     "output_type": "stream",
     "text": [
      "Медиана work =  1849.0\n",
      "Медиана price =  70.94999999999999\n",
      "Медиана salary =  43.65\n"
     ]
    }
   ],
   "source": [
    "print ('Медиана work = ',df['Work'].median())\n",
    "print ('Медиана price = ',df['Price'].median())\n",
    "print ('Медиана salary = ',df['Salary'].median())"
   ]
  },
  {
   "cell_type": "code",
   "execution_count": null,
   "metadata": {},
   "outputs": [],
   "source": []
  },
  {
   "cell_type": "markdown",
   "metadata": {},
   "source": [
    "#### В 0 группе \n",
    "Города с низким рабочим средневзвешенным, средними ценами и средней зарплатой \n",
    "В эту группу входят крупные города Европы и Сидней\n",
    "#### в 1 города\n",
    "С высоким рабочим средневзвешенным и низкими показателями цен и заработной платы\n",
    "В эту группу входят крупные города Южной и Восточной Азии и Севера Южной Америки\n",
    "#### во 2 группе\n",
    "Страны со средним рабочим средневзвешенным  с низкой зарплатой,и низкими ценами\n",
    "В эту группу входят города Южной Америки (Бразилия), Южной Европы, Южной Азии, Африки, а также города Сеул, Мехико\n",
    "#### в 3 группе\n",
    "Страны с низким рабочим средневзвешенным и высокими показателями цен и заработной платы\n",
    "В эту группу входят крупные города Северной Европы и Швейцарии, а также Токио\n",
    "#### в 4 группе\n",
    "Высокое рабочее средневзвешенное, среднее значение цен, заработная плата средняя\n",
    "В эту группу входят крупные города Северной Америки и город Тайпей"
   ]
  },
  {
   "cell_type": "markdown",
   "metadata": {},
   "source": [
    "### Проврка кластеризации при k = 7"
   ]
  },
  {
   "cell_type": "code",
   "execution_count": 12,
   "metadata": {},
   "outputs": [
    {
     "data": {
      "text/html": [
       "<div>\n",
       "<style scoped>\n",
       "    .dataframe tbody tr th:only-of-type {\n",
       "        vertical-align: middle;\n",
       "    }\n",
       "\n",
       "    .dataframe tbody tr th {\n",
       "        vertical-align: top;\n",
       "    }\n",
       "\n",
       "    .dataframe thead th {\n",
       "        text-align: right;\n",
       "    }\n",
       "</style>\n",
       "<table border=\"1\" class=\"dataframe\">\n",
       "  <thead>\n",
       "    <tr style=\"text-align: right;\">\n",
       "      <th></th>\n",
       "      <th>Work</th>\n",
       "      <th>Price</th>\n",
       "      <th>Salary</th>\n",
       "    </tr>\n",
       "    <tr>\n",
       "      <th>cluster</th>\n",
       "      <th></th>\n",
       "      <th></th>\n",
       "      <th></th>\n",
       "    </tr>\n",
       "  </thead>\n",
       "  <tbody>\n",
       "    <tr>\n",
       "      <th>0</th>\n",
       "      <td>1874.000000</td>\n",
       "      <td>97.950000</td>\n",
       "      <td>95.150000</td>\n",
       "    </tr>\n",
       "    <tr>\n",
       "      <th>1</th>\n",
       "      <td>1990.833333</td>\n",
       "      <td>77.233333</td>\n",
       "      <td>55.316667</td>\n",
       "    </tr>\n",
       "    <tr>\n",
       "      <th>2</th>\n",
       "      <td>2202.800000</td>\n",
       "      <td>43.100000</td>\n",
       "      <td>11.700000</td>\n",
       "    </tr>\n",
       "    <tr>\n",
       "      <th>3</th>\n",
       "      <td>1798.857143</td>\n",
       "      <td>50.942857</td>\n",
       "      <td>19.214286</td>\n",
       "    </tr>\n",
       "    <tr>\n",
       "      <th>4</th>\n",
       "      <td>1732.000000</td>\n",
       "      <td>78.135714</td>\n",
       "      <td>53.614286</td>\n",
       "    </tr>\n",
       "    <tr>\n",
       "      <th>5</th>\n",
       "      <td>1999.250000</td>\n",
       "      <td>55.487500</td>\n",
       "      <td>14.475000</td>\n",
       "    </tr>\n",
       "    <tr>\n",
       "      <th>6</th>\n",
       "      <td>1733.750000</td>\n",
       "      <td>113.850000</td>\n",
       "      <td>59.375000</td>\n",
       "    </tr>\n",
       "  </tbody>\n",
       "</table>\n",
       "</div>"
      ],
      "text/plain": [
       "                Work       Price     Salary\n",
       "cluster                                    \n",
       "0        1874.000000   97.950000  95.150000\n",
       "1        1990.833333   77.233333  55.316667\n",
       "2        2202.800000   43.100000  11.700000\n",
       "3        1798.857143   50.942857  19.214286\n",
       "4        1732.000000   78.135714  53.614286\n",
       "5        1999.250000   55.487500  14.475000\n",
       "6        1733.750000  113.850000  59.375000"
      ]
     },
     "execution_count": 12,
     "metadata": {},
     "output_type": "execute_result"
    }
   ],
   "source": [
    "model2 = KMeans(n_clusters=7, random_state=42, max_iter=300, n_init=10, verbose=0 )\n",
    "model2.fit(X1)\n",
    "\n",
    "df['cluster'] = model2.labels_\n",
    "df.groupby('cluster').mean()"
   ]
  },
  {
   "cell_type": "markdown",
   "metadata": {},
   "source": [
    "### Таблица частот"
   ]
  },
  {
   "cell_type": "code",
   "execution_count": 13,
   "metadata": {},
   "outputs": [
    {
     "data": {
      "text/plain": [
       "cluster\n",
       "0     2\n",
       "1     6\n",
       "2     5\n",
       "3     7\n",
       "4    14\n",
       "5     8\n",
       "6     4\n",
       "dtype: int64"
      ]
     },
     "execution_count": 13,
     "metadata": {},
     "output_type": "execute_result"
    }
   ],
   "source": [
    "df.groupby('cluster').size()"
   ]
  },
  {
   "cell_type": "code",
   "execution_count": 14,
   "metadata": {},
   "outputs": [
    {
     "data": {
      "text/plain": [
       "City\n",
       "Zurich            0\n",
       "Geneva            0\n",
       "Los_Angeles       1\n",
       "New_York          1\n",
       "Toronto           1\n",
       "Taipei            1\n",
       "Houston           1\n",
       "Chicago           1\n",
       "Kuala_Lumpur      2\n",
       "Hong_Kong         2\n",
       "Manila            2\n",
       "Bombay            2\n",
       "Bogota            2\n",
       "San_Paulo         3\n",
       "Nicosia           3\n",
       "Seoul             3\n",
       "Lagos             3\n",
       "Lisbon            3\n",
       "Athens            3\n",
       "Rio_de_Janeiro    3\n",
       "Milan             4\n",
       "Sydney            4\n",
       "Montreal          4\n",
       "Paris             4\n",
       "Amsterdam         4\n",
       "Dublin            4\n",
       "Brussels          4\n",
       "Copenhagen        4\n",
       "Madrid            4\n",
       "Dusseldorf        4\n",
       "Frankfurt         4\n",
       "Luxembourg        4\n",
       "London            4\n",
       "Vienna            4\n",
       "Panama            5\n",
       "Johannesburg      5\n",
       "Nairobi           5\n",
       "Singpore          5\n",
       "Caracas           5\n",
       "Buenos_Aires      5\n",
       "Tel_Aviv          5\n",
       "Mexico_City       5\n",
       "Helsinki          6\n",
       "Stockholm         6\n",
       "Tokyo             6\n",
       "Oslo              6\n",
       "Name: cluster, dtype: int32"
      ]
     },
     "execution_count": 14,
     "metadata": {},
     "output_type": "execute_result"
    }
   ],
   "source": [
    "df['cluster'].sort_values()"
   ]
  },
  {
   "cell_type": "code",
   "execution_count": 15,
   "metadata": {},
   "outputs": [
    {
     "name": "stdout",
     "output_type": "stream",
     "text": [
      "Медиана work =  1849.0\n",
      "Медиана price =  70.94999999999999\n",
      "Медиана salary =  43.65\n"
     ]
    }
   ],
   "source": [
    "print ('Медиана work = ',df['Work'].median())\n",
    "print ('Медиана price = ',df['Price'].median())\n",
    "print ('Медиана salary = ',df['Salary'].median())"
   ]
  },
  {
   "cell_type": "markdown",
   "metadata": {},
   "source": [
    "#### в 0 группе \n",
    "Страны с низким рабочим средневзвешенным и высокими показателями цен и заработной платы\n",
    "В эту группу входят крупные города Северной Европы и город Токио.\n",
    "\n",
    "####  в 1 группе\n",
    "Города с высоким рабочим средневзвешенным и низкими показателями цен и заработной платы  В эту группу входят крупные города Южной Америки,Африки, южной Азии. \n",
    "\n",
    "####  во 2 группе\n",
    "Города с низким рабочим средневзвешенным, средними ценами и средней зарплатой \n",
    " В эту группу входят крупные города Европы и города Сидней и Монреаль\n",
    "\n",
    "####  в 3 группе\n",
    "Высокое рабочее средневзвешенное и среднее значение цен, средняя заработная плата В эту группу входят крупные города Северной Америки и город Тайпей \n",
    "\n",
    "####  в 4 группе\n",
    "Высокое рабочее средневзвешенное и низкое значение цен, низкая заработная плата В эту группу входят крупные города юго-восточной Азии и город Богота. Поскольку группа 1 \n",
    "обладает теми же характеристиками имеет смысл объединить ее с группой 1 в один кластер\n",
    "\n",
    "####  В 5 группе\n",
    "Города со средним средневзвешенным, высокими ценами и высокими зарплатами В эту группу входят города Швейцарии\n",
    "\n",
    "####  В 6 группе\n",
    "Города с низким средневзвешенным, низкими ценами и низкими зарплатамиВ эту группу входят города южной Европы, запад Южной Америки, а также города Сеул, Лагос, Нискосия."
   ]
  },
  {
   "cell_type": "markdown",
   "metadata": {},
   "source": [
    "### Проврка кластеризации при k = 6"
   ]
  },
  {
   "cell_type": "code",
   "execution_count": 16,
   "metadata": {},
   "outputs": [
    {
     "data": {
      "text/html": [
       "<div>\n",
       "<style scoped>\n",
       "    .dataframe tbody tr th:only-of-type {\n",
       "        vertical-align: middle;\n",
       "    }\n",
       "\n",
       "    .dataframe tbody tr th {\n",
       "        vertical-align: top;\n",
       "    }\n",
       "\n",
       "    .dataframe thead th {\n",
       "        text-align: right;\n",
       "    }\n",
       "</style>\n",
       "<table border=\"1\" class=\"dataframe\">\n",
       "  <thead>\n",
       "    <tr style=\"text-align: right;\">\n",
       "      <th></th>\n",
       "      <th>Work</th>\n",
       "      <th>Price</th>\n",
       "      <th>Salary</th>\n",
       "    </tr>\n",
       "    <tr>\n",
       "      <th>cluster</th>\n",
       "      <th></th>\n",
       "      <th></th>\n",
       "      <th></th>\n",
       "    </tr>\n",
       "  </thead>\n",
       "  <tbody>\n",
       "    <tr>\n",
       "      <th>0</th>\n",
       "      <td>1780.500000</td>\n",
       "      <td>108.550000</td>\n",
       "      <td>71.300000</td>\n",
       "    </tr>\n",
       "    <tr>\n",
       "      <th>1</th>\n",
       "      <td>1798.857143</td>\n",
       "      <td>50.942857</td>\n",
       "      <td>19.214286</td>\n",
       "    </tr>\n",
       "    <tr>\n",
       "      <th>2</th>\n",
       "      <td>2202.800000</td>\n",
       "      <td>43.100000</td>\n",
       "      <td>11.700000</td>\n",
       "    </tr>\n",
       "    <tr>\n",
       "      <th>3</th>\n",
       "      <td>1990.833333</td>\n",
       "      <td>77.233333</td>\n",
       "      <td>55.316667</td>\n",
       "    </tr>\n",
       "    <tr>\n",
       "      <th>4</th>\n",
       "      <td>1732.000000</td>\n",
       "      <td>78.135714</td>\n",
       "      <td>53.614286</td>\n",
       "    </tr>\n",
       "    <tr>\n",
       "      <th>5</th>\n",
       "      <td>1999.250000</td>\n",
       "      <td>55.487500</td>\n",
       "      <td>14.475000</td>\n",
       "    </tr>\n",
       "  </tbody>\n",
       "</table>\n",
       "</div>"
      ],
      "text/plain": [
       "                Work       Price     Salary\n",
       "cluster                                    \n",
       "0        1780.500000  108.550000  71.300000\n",
       "1        1798.857143   50.942857  19.214286\n",
       "2        2202.800000   43.100000  11.700000\n",
       "3        1990.833333   77.233333  55.316667\n",
       "4        1732.000000   78.135714  53.614286\n",
       "5        1999.250000   55.487500  14.475000"
      ]
     },
     "execution_count": 16,
     "metadata": {},
     "output_type": "execute_result"
    }
   ],
   "source": [
    "model2 = KMeans(n_clusters=6, random_state=42, max_iter=300, n_init=10, verbose=0 )\n",
    "model2.fit(X1)\n",
    "#выведем значения кластеров\n",
    "df['cluster'] = model2.labels_\n",
    "df.groupby('cluster').mean()"
   ]
  },
  {
   "cell_type": "markdown",
   "metadata": {},
   "source": [
    "Поскольку значения в строках 1,4 незначительно отличаются, остановимся на том, что деление на 5 кластеров является оптимальным все же является вариант с 5 кластерам"
   ]
  },
  {
   "cell_type": "markdown",
   "metadata": {},
   "source": [
    "## Вывод\n",
    "\n",
    "Воспользовавшись методом k-means, мы разделили данные на 5 групп.  \n",
    "Иерархический кластерный анализ дал 6 кластеров.\n",
    "Более правильным я считаю деление первым методом. Поскольку вижу смысл в том,\n",
    "чтобы выделить города Тайпей и Гонконг в одну группу.\n",
    "Кроме того, в первом случае больше городов, принадлежащих одному региону находились вместе\n",
    "\n",
    "---"
   ]
  }
 ],
 "metadata": {
  "kernelspec": {
   "display_name": "Python 3",
   "language": "python",
   "name": "python3"
  },
  "language_info": {
   "codemirror_mode": {
    "name": "ipython",
    "version": 3
   },
   "file_extension": ".py",
   "mimetype": "text/x-python",
   "name": "python",
   "nbconvert_exporter": "python",
   "pygments_lexer": "ipython3",
   "version": "3.8.5"
  }
 },
 "nbformat": 4,
 "nbformat_minor": 4
}
