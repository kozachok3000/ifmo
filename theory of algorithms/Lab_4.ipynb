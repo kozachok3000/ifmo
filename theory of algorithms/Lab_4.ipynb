{
 "cells": [
  {
   "cell_type": "markdown",
   "metadata": {},
   "source": [
    "## Лабораторная работа № 4. \n",
    "### Проверка статистических гипотез.\n",
    "### Вариант 2"
   ]
  },
  {
   "cell_type": "markdown",
   "metadata": {},
   "source": [
    "### *Задача 1. Nursing Home Data*"
   ]
  },
  {
   "cell_type": "markdown",
   "metadata": {},
   "source": [
    "Сравнить расходы больницы за год (в сотнях долларов) для больниц расположенных за городом и в городе."
   ]
  },
  {
   "cell_type": "code",
   "execution_count": 1,
   "metadata": {},
   "outputs": [],
   "source": [
    "import os\n",
    "import pandas as pd\n",
    "import numpy as np\n",
    "import matplotlib\n",
    "import matplotlib.pyplot as plt\n",
    "\n",
    "#  matplotlib.style.use('ggplot')\n",
    "%matplotlib inline\n",
    "\n",
    "from scipy import stats"
   ]
  },
  {
   "cell_type": "code",
   "execution_count": 2,
   "metadata": {
    "scrolled": false
   },
   "outputs": [
    {
     "data": {
      "text/html": [
       "<div>\n",
       "<style scoped>\n",
       "    .dataframe tbody tr th:only-of-type {\n",
       "        vertical-align: middle;\n",
       "    }\n",
       "\n",
       "    .dataframe tbody tr th {\n",
       "        vertical-align: top;\n",
       "    }\n",
       "\n",
       "    .dataframe thead th {\n",
       "        text-align: right;\n",
       "    }\n",
       "</style>\n",
       "<table border=\"1\" class=\"dataframe\">\n",
       "  <thead>\n",
       "    <tr style=\"text-align: right;\">\n",
       "      <th></th>\n",
       "      <th>BED</th>\n",
       "      <th>MCDAYS</th>\n",
       "      <th>TDAYS</th>\n",
       "      <th>PCREV</th>\n",
       "      <th>NSAL</th>\n",
       "      <th>FEXP</th>\n",
       "      <th>RURAL</th>\n",
       "    </tr>\n",
       "  </thead>\n",
       "  <tbody>\n",
       "    <tr>\n",
       "      <th>0</th>\n",
       "      <td>244</td>\n",
       "      <td>128</td>\n",
       "      <td>385</td>\n",
       "      <td>23521</td>\n",
       "      <td>5230</td>\n",
       "      <td>5334</td>\n",
       "      <td>0</td>\n",
       "    </tr>\n",
       "    <tr>\n",
       "      <th>1</th>\n",
       "      <td>59</td>\n",
       "      <td>155</td>\n",
       "      <td>203</td>\n",
       "      <td>9160</td>\n",
       "      <td>2459</td>\n",
       "      <td>493</td>\n",
       "      <td>1</td>\n",
       "    </tr>\n",
       "    <tr>\n",
       "      <th>2</th>\n",
       "      <td>120</td>\n",
       "      <td>281</td>\n",
       "      <td>392</td>\n",
       "      <td>21900</td>\n",
       "      <td>6304</td>\n",
       "      <td>6115</td>\n",
       "      <td>0</td>\n",
       "    </tr>\n",
       "    <tr>\n",
       "      <th>3</th>\n",
       "      <td>120</td>\n",
       "      <td>291</td>\n",
       "      <td>419</td>\n",
       "      <td>22354</td>\n",
       "      <td>6590</td>\n",
       "      <td>6346</td>\n",
       "      <td>0</td>\n",
       "    </tr>\n",
       "    <tr>\n",
       "      <th>4</th>\n",
       "      <td>120</td>\n",
       "      <td>238</td>\n",
       "      <td>363</td>\n",
       "      <td>17421</td>\n",
       "      <td>5362</td>\n",
       "      <td>6225</td>\n",
       "      <td>0</td>\n",
       "    </tr>\n",
       "  </tbody>\n",
       "</table>\n",
       "</div>"
      ],
      "text/plain": [
       "   BED  MCDAYS  TDAYS  PCREV  NSAL  FEXP  RURAL\n",
       "0  244     128    385  23521  5230  5334      0\n",
       "1   59     155    203   9160  2459   493      1\n",
       "2  120     281    392  21900  6304  6115      0\n",
       "3  120     291    419  22354  6590  6346      0\n",
       "4  120     238    363  17421  5362  6225      0"
      ]
     },
     "execution_count": 2,
     "metadata": {},
     "output_type": "execute_result"
    }
   ],
   "source": [
    "df_1 = pd.read_csv('Nursing Home Data_data', encoding='utf-8', sep='\\s+')\n",
    "df_1.head()"
   ]
  },
  {
   "cell_type": "markdown",
   "metadata": {},
   "source": [
    "Проверяем, что расходы больницы за год расположенных за городом (```RURAL = 1```) отличаются расходы больницы за год расположенных в городе (```RURAL = 0```). Пробую применить критерий Стьюдента, но предварительно нужно:\n",
    "1. Проверить нормальность данных,\n",
    "2. Проверить равенство дисперсий."
   ]
  },
  {
   "cell_type": "markdown",
   "metadata": {},
   "source": [
    "Сохраним в отдельные переменные выборки, которые собираемся сравнивать."
   ]
  },
  {
   "cell_type": "code",
   "execution_count": 3,
   "metadata": {},
   "outputs": [],
   "source": [
    "x = df_1[df_1['RURAL'] == 1]['FEXP']\n",
    "y = df_1[df_1['RURAL'] == 0]['FEXP']\n",
    "x.name, y.name = 'rural', 'non-rural'"
   ]
  },
  {
   "cell_type": "markdown",
   "metadata": {},
   "source": [
    "Проверяем нормальность распределений."
   ]
  },
  {
   "cell_type": "code",
   "execution_count": 4,
   "metadata": {},
   "outputs": [],
   "source": [
    "def two_histograms(x, y):\n",
    "    x.hist(alpha=0.5, weights=[1./len(x)]*len(x))\n",
    "    y.hist(alpha=0.5, weights=[1./len(y)]*len(y))\n",
    "    plt.axvline(x.mean(), color='red', alpha=0.8, linestyle='dashed')\n",
    "    plt.axvline(y.mean(), color='blue', alpha=0.8, linestyle='dashed')\n",
    "    plt.legend([x.name, y.name])"
   ]
  },
  {
   "cell_type": "code",
   "execution_count": 5,
   "metadata": {
    "scrolled": true
   },
   "outputs": [
    {
     "data": {
      "image/png": "[encoded data removed]",
      "text/plain": [
       "<Figure size 432x288 with 1 Axes>"
      ]
     },
     "metadata": {
      "needs_background": "light"
     },
     "output_type": "display_data"
    }
   ],
   "source": [
    "# вызываем функцию для определённых выше векторов x, y.\n",
    "two_histograms(x, y)"
   ]
  },
  {
   "cell_type": "code",
   "execution_count": 6,
   "metadata": {},
   "outputs": [
    {
     "data": {
      "text/plain": [
       "{'whiskers': [<matplotlib.lines.Line2D at 0x21f9df2d8b0>,\n",
       "  <matplotlib.lines.Line2D at 0x21f9df2dc10>,\n",
       "  <matplotlib.lines.Line2D at 0x21f9df48160>,\n",
       "  <matplotlib.lines.Line2D at 0x21f9df484c0>],\n",
       " 'caps': [<matplotlib.lines.Line2D at 0x21f9df2df70>,\n",
       "  <matplotlib.lines.Line2D at 0x21f9df3c310>,\n",
       "  <matplotlib.lines.Line2D at 0x21f9df48820>,\n",
       "  <matplotlib.lines.Line2D at 0x21f9df48b80>],\n",
       " 'boxes': [<matplotlib.lines.Line2D at 0x21f9df2d550>,\n",
       "  <matplotlib.lines.Line2D at 0x21f9df3cdc0>],\n",
       " 'medians': [<matplotlib.lines.Line2D at 0x21f9df3c670>,\n",
       "  <matplotlib.lines.Line2D at 0x21f9df48ee0>],\n",
       " 'fliers': [<matplotlib.lines.Line2D at 0x21f9df3ca30>,\n",
       "  <matplotlib.lines.Line2D at 0x21f9df53280>],\n",
       " 'means': []}"
      ]
     },
     "execution_count": 6,
     "metadata": {},
     "output_type": "execute_result"
    },
    {
     "data": {
      "image/png": "[encoded data removed]",
      "text/plain": [
       "<Figure size 432x288 with 1 Axes>"
      ]
     },
     "metadata": {
      "needs_background": "light"
     },
     "output_type": "display_data"
    }
   ],
   "source": [
    "plt.boxplot([x, y])"
   ]
  },
  {
   "cell_type": "markdown",
   "metadata": {},
   "source": [
    "В распределении есть очевидные выбросы, которые не дают применить критерий Стюдента. Тогда можно поробовать применить непараметрические критерии. Критерий Уилкоксона применим только для парных выборок. У нас же в разных выборках находятся разные объекты (больницы). На графике \"Ящик с усами\" видно, что медианы у выборок схожи, поэтому можем применить критерий Манна-Уитни."
   ]
  },
  {
   "cell_type": "code",
   "execution_count": 7,
   "metadata": {},
   "outputs": [
    {
     "name": "stdout",
     "output_type": "stream",
     "text": [
      "p-value: 0.26594759448891914\n"
     ]
    }
   ],
   "source": [
    "res = stats.mannwhitneyu(x, y)\n",
    "print('p-value:', res[1])"
   ]
  },
  {
   "cell_type": "markdown",
   "metadata": {},
   "source": [
    "p-value получился большим (меньше $\\alpha = 0.01, 0.05$), поэтому у нас нет оснований отвергнуть гипотезу. Вывод: Годовые расходы больниц различаются незначимо."
   ]
  },
  {
   "cell_type": "markdown",
   "metadata": {},
   "source": [
    "### *Задача 2. Unions and State Labor Law.*\n",
    "\n",
    "Сравниваются штаты, в которых принят закон State right-to-work law\n",
    "и те, в которых закон не принят."
   ]
  },
  {
   "cell_type": "code",
   "execution_count": 8,
   "metadata": {
    "scrolled": true
   },
   "outputs": [
    {
     "data": {
      "text/html": [
       "<div>\n",
       "<style scoped>\n",
       "    .dataframe tbody tr th:only-of-type {\n",
       "        vertical-align: middle;\n",
       "    }\n",
       "\n",
       "    .dataframe tbody tr th {\n",
       "        vertical-align: top;\n",
       "    }\n",
       "\n",
       "    .dataframe thead th {\n",
       "        text-align: right;\n",
       "    }\n",
       "</style>\n",
       "<table border=\"1\" class=\"dataframe\">\n",
       "  <thead>\n",
       "    <tr style=\"text-align: right;\">\n",
       "      <th></th>\n",
       "      <th>DENS</th>\n",
       "      <th>COMP</th>\n",
       "      <th>RTW</th>\n",
       "      <th>PVT</th>\n",
       "    </tr>\n",
       "    <tr>\n",
       "      <th>STATE</th>\n",
       "      <th></th>\n",
       "      <th></th>\n",
       "      <th></th>\n",
       "      <th></th>\n",
       "    </tr>\n",
       "  </thead>\n",
       "  <tbody>\n",
       "    <tr>\n",
       "      <th>NY</th>\n",
       "      <td>56.9</td>\n",
       "      <td>1</td>\n",
       "      <td>0</td>\n",
       "      <td>31.2</td>\n",
       "    </tr>\n",
       "    <tr>\n",
       "      <th>MI</th>\n",
       "      <td>49.6</td>\n",
       "      <td>1</td>\n",
       "      <td>0</td>\n",
       "      <td>30.2</td>\n",
       "    </tr>\n",
       "    <tr>\n",
       "      <th>WA</th>\n",
       "      <td>32.4</td>\n",
       "      <td>1</td>\n",
       "      <td>0</td>\n",
       "      <td>33.1</td>\n",
       "    </tr>\n",
       "    <tr>\n",
       "      <th>HI</th>\n",
       "      <td>54.6</td>\n",
       "      <td>1</td>\n",
       "      <td>0</td>\n",
       "      <td>24.7</td>\n",
       "    </tr>\n",
       "    <tr>\n",
       "      <th>AK</th>\n",
       "      <td>30.7</td>\n",
       "      <td>1</td>\n",
       "      <td>0</td>\n",
       "      <td>30.1</td>\n",
       "    </tr>\n",
       "  </tbody>\n",
       "</table>\n",
       "</div>"
      ],
      "text/plain": [
       "       DENS  COMP  RTW   PVT\n",
       "STATE                       \n",
       "NY     56.9     1    0  31.2\n",
       "MI     49.6     1    0  30.2\n",
       "WA     32.4     1    0  33.1\n",
       "HI     54.6     1    0  24.7\n",
       "AK     30.7     1    0  30.1"
      ]
     },
     "execution_count": 8,
     "metadata": {},
     "output_type": "execute_result"
    }
   ],
   "source": [
    "df_2 = pd.read_csv('Unions and State Labor Law_data', encoding='utf-8', sep='\\s+', index_col='STATE')\n",
    "df_2.head()"
   ]
  },
  {
   "cell_type": "markdown",
   "metadata": {},
   "source": [
    "DENS - процент муниципальных служащих, и RTW - интересующий нас закон."
   ]
  },
  {
   "cell_type": "code",
   "execution_count": 9,
   "metadata": {},
   "outputs": [],
   "source": [
    "x = df_2[df_2['RTW'] == 1]['DENS']\n",
    "y = df_2[df_2['RTW'] == 0]['DENS']\n",
    "x.name, y.name = 'Принят', 'Не принят'"
   ]
  },
  {
   "cell_type": "code",
   "execution_count": 10,
   "metadata": {},
   "outputs": [
    {
     "data": {
      "image/png": "[encoded data removed]",
      "text/plain": [
       "<Figure size 432x288 with 1 Axes>"
      ]
     },
     "metadata": {
      "needs_background": "light"
     },
     "output_type": "display_data"
    }
   ],
   "source": [
    "# вызываем функцию для определённых выше векторов x, y.\n",
    "two_histograms(x, y)"
   ]
  },
  {
   "cell_type": "code",
   "execution_count": 11,
   "metadata": {},
   "outputs": [
    {
     "data": {
      "text/plain": [
       "{'whiskers': [<matplotlib.lines.Line2D at 0x21f9e05f280>,\n",
       "  <matplotlib.lines.Line2D at 0x21f9e05f5e0>,\n",
       "  <matplotlib.lines.Line2D at 0x21f9e06ca60>,\n",
       "  <matplotlib.lines.Line2D at 0x21f9e06cdc0>],\n",
       " 'caps': [<matplotlib.lines.Line2D at 0x21f9e05f940>,\n",
       "  <matplotlib.lines.Line2D at 0x21f9e05fca0>,\n",
       "  <matplotlib.lines.Line2D at 0x21f9e078160>,\n",
       "  <matplotlib.lines.Line2D at 0x21f9e0784c0>],\n",
       " 'boxes': [<matplotlib.lines.Line2D at 0x21f9e051ee0>,\n",
       "  <matplotlib.lines.Line2D at 0x21f9e06c700>],\n",
       " 'medians': [<matplotlib.lines.Line2D at 0x21f9e06c040>,\n",
       "  <matplotlib.lines.Line2D at 0x21f9e078820>],\n",
       " 'fliers': [<matplotlib.lines.Line2D at 0x21f9e06c3a0>,\n",
       "  <matplotlib.lines.Line2D at 0x21f9e078b80>],\n",
       " 'means': []}"
      ]
     },
     "execution_count": 11,
     "metadata": {},
     "output_type": "execute_result"
    },
    {
     "data": {
      "image/png": "[encoded data removed]",
      "text/plain": [
       "<Figure size 432x288 with 1 Axes>"
      ]
     },
     "metadata": {
      "needs_background": "light"
     },
     "output_type": "display_data"
    }
   ],
   "source": [
    "plt.boxplot([x, y])"
   ]
  },
  {
   "cell_type": "markdown",
   "metadata": {},
   "source": [
    "На гистограмме видно, что данные отличаются от нормального распределения, а на графике \"ящик с усами\" медианы снова схожи, попробуем снова Манна-Уитни."
   ]
  },
  {
   "cell_type": "code",
   "execution_count": 12,
   "metadata": {},
   "outputs": [
    {
     "name": "stdout",
     "output_type": "stream",
     "text": [
      "p-value: 0.00010624487970362637\n"
     ]
    }
   ],
   "source": [
    "res = stats.mannwhitneyu(x, y)\n",
    "print('p-value:', res[1])"
   ]
  },
  {
   "cell_type": "markdown",
   "metadata": {},
   "source": [
    "p-value получилось очень маленьким, отвергаем гипотезу. Вывод: Закон State right-to-work law принят в штатах где процент рабочих на гос и частном секторе очень мал по сравнению с штатами где процент работающих больше"
   ]
  }
 ],
 "metadata": {
  "kernelspec": {
   "display_name": "Python 3",
   "language": "python",
   "name": "python3"
  },
  "language_info": {
   "codemirror_mode": {
    "name": "ipython",
    "version": 3
   },
   "file_extension": ".py",
   "mimetype": "text/x-python",
   "name": "python",
   "nbconvert_exporter": "python",
   "pygments_lexer": "ipython3",
   "version": "3.8.5"
  }
 },
 "nbformat": 4,
 "nbformat_minor": 2
}
