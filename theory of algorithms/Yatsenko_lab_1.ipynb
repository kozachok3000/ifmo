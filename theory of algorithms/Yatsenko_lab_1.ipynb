{
 "cells": [
  {
   "cell_type": "markdown",
   "metadata": {},
   "source": [
    "\n",
    "## Лабораторная работа №1  \n",
    "### Иерархический кластерный анализ\n",
    "### Экономика городов  \n",
    "\n",
   ]
  },
  {
   "cell_type": "markdown",
   "metadata": {},
   "source": [
    "Подключение библиотек"
   ]
  },
  {
   "cell_type": "code",
   "execution_count": 1,
   "metadata": {},
   "outputs": [],
   "source": [
    "import numpy as np\n",
    "import pandas as pd\n",
    "\n",
    "import matplotlib\n",
    "import matplotlib.pyplot as plt\n",
    "matplotlib.style.use('ggplot')\n",
    "%matplotlib inline\n",
    "\n",
    "import os"
   ]
  },
  {
   "cell_type": "code",
   "execution_count": 2,
   "metadata": {},
   "outputs": [
    {
     "data": {
      "text/html": [
       "<div>\n",
       "<style scoped>\n",
       "    .dataframe tbody tr th:only-of-type {\n",
       "        vertical-align: middle;\n",
       "    }\n",
       "\n",
       "    .dataframe tbody tr th {\n",
       "        vertical-align: top;\n",
       "    }\n",
       "\n",
       "    .dataframe thead th {\n",
       "        text-align: right;\n",
       "    }\n",
       "</style>\n",
       "<table border=\"1\" class=\"dataframe\">\n",
       "  <thead>\n",
       "    <tr style=\"text-align: right;\">\n",
       "      <th></th>\n",
       "      <th>Work</th>\n",
       "      <th>Price</th>\n",
       "      <th>Salary</th>\n",
       "    </tr>\n",
       "    <tr>\n",
       "      <th>City</th>\n",
       "      <th></th>\n",
       "      <th></th>\n",
       "      <th></th>\n",
       "    </tr>\n",
       "  </thead>\n",
       "  <tbody>\n",
       "    <tr>\n",
       "      <th>Amsterdam</th>\n",
       "      <td>1714</td>\n",
       "      <td>65.6</td>\n",
       "      <td>49.0</td>\n",
       "    </tr>\n",
       "    <tr>\n",
       "      <th>Athens</th>\n",
       "      <td>1792</td>\n",
       "      <td>53.8</td>\n",
       "      <td>30.4</td>\n",
       "    </tr>\n",
       "    <tr>\n",
       "      <th>Bogota</th>\n",
       "      <td>2152</td>\n",
       "      <td>37.9</td>\n",
       "      <td>11.5</td>\n",
       "    </tr>\n",
       "    <tr>\n",
       "      <th>Bombay</th>\n",
       "      <td>2052</td>\n",
       "      <td>30.3</td>\n",
       "      <td>5.3</td>\n",
       "    </tr>\n",
       "    <tr>\n",
       "      <th>Brussels</th>\n",
       "      <td>1708</td>\n",
       "      <td>73.8</td>\n",
       "      <td>50.5</td>\n",
       "    </tr>\n",
       "  </tbody>\n",
       "</table>\n",
       "</div>"
      ],
      "text/plain": [
       "           Work  Price  Salary\n",
       "City                          \n",
       "Amsterdam  1714   65.6    49.0\n",
       "Athens     1792   53.8    30.4\n",
       "Bogota     2152   37.9    11.5\n",
       "Bombay     2052   30.3     5.3\n",
       "Brussels   1708   73.8    50.5"
      ]
     },
     "execution_count": 2,
     "metadata": {},
     "output_type": "execute_result"
    }
   ],
   "source": [
    "df = pd.read_csv(\"Econom_Cities_data.csv\", sep=\";\", decimal=',', index_col='City')\n",
    "df.head()"
   ]
  },
  {
   "cell_type": "markdown",
   "metadata": {},
   "source": [
    "Проверим корректность данных. \n",
    "Можно заметить что в Cairo и Jakarta отрицательные Work и Price. Исключим их из выборки.  "
   ]
  },
  {
   "cell_type": "code",
   "execution_count": 3,
   "metadata": {},
   "outputs": [
    {
     "name": "stdout",
     "output_type": "stream",
     "text": [
      "                Work  Price  Salary\n",
      "City                               \n",
      "Amsterdam       1714   65.6    49.0\n",
      "Athens          1792   53.8    30.4\n",
      "Bogota          2152   37.9    11.5\n",
      "Bombay          2052   30.3     5.3\n",
      "Brussels        1708   73.8    50.5\n",
      "Buenos_Aires    1971   56.1    12.5\n",
      "Cairo          -9999   37.1 -9999.0\n",
      "Caracas         2041   61.0    10.9\n",
      "Chicago         1924   73.9    61.9\n",
      "Copenhagen      1717   91.3    62.9\n",
      "Dublin          1759   76.0    41.4\n",
      "Dusseldorf      1693   78.5    60.2\n",
      "Frankfurt       1650   74.5    60.4\n",
      "Geneva          1880   95.9    90.3\n",
      "Helsinki        1667  113.6    66.6\n",
      "Hong_Kong       2375   63.8    27.8\n",
      "Houston         1978   71.9    46.3\n",
      "Jakarta        -9999   43.6 -9999.0\n",
      "Johannesburg    1945   51.1    24.0\n",
      "Kuala_Lumpur    2167   43.5     9.9\n",
      "Lagos           1786   45.2     2.7\n",
      "Lisbon          1742   56.2    18.8\n",
      "London          1737   84.2    46.2\n",
      "Los_Angeles     2068   79.8    65.2\n",
      "Luxembourg      1768   71.1    71.1\n",
      "Madrid          1710   93.8    50.0\n",
      "Manila          2268   40.0     4.0\n",
      "Mexico_City     1944   49.8     5.7\n",
      "Milan           1773   82.0    53.3\n",
      "Montreal        1827   72.7    56.3\n",
      "Nairobi         1958   45.0     5.8\n",
      "New_York        1942   83.3    65.8\n",
      "Nicosia         1825   47.9    28.3\n",
      "Oslo            1583  115.5    63.7\n",
      "Panama          2078   49.2    13.8\n",
      "Paris           1744   81.6    45.9\n",
      "Rio_de_Janeiro  1749   46.3    10.5\n",
      "San_Paulo       1856   48.9    11.1\n",
      "Seoul           1842   58.3    32.7\n",
      "Singpore        2042   64.4    16.1\n",
      "Stockholm       1805  111.3    39.2\n",
      "Sydney          1668   70.8    52.1\n",
      "Taipei          2145   84.3    34.5\n",
      "Tel_Aviv        2015   67.3    27.0\n",
      "Tokyo           1880  115.0    68.0\n",
      "Toronto         1888   70.2    58.2\n",
      "Vienna          1780   78.0    51.3\n",
      "Zurich          1868  100.0   100.0\n"
     ]
    }
   ],
   "source": [
    "print(df)"
   ]
  },
  {
   "cell_type": "code",
   "execution_count": 4,
   "metadata": {},
   "outputs": [],
   "source": [
    "#исключаем города\n",
    "df = df.drop(index=[\"Jakarta\",\"Cairo\"])"
   ]
  },
  {
   "cell_type": "markdown",
   "metadata": {},
   "source": [
    "## Стандартизация данных\n",
    "Для начала необходимо стандартизировать данные"
   ]
  },
  {
   "cell_type": "code",
   "execution_count": 5,
   "metadata": {},
   "outputs": [
    {
     "data": {
      "text/html": [
       "<div>\n",
       "<style scoped>\n",
       "    .dataframe tbody tr th:only-of-type {\n",
       "        vertical-align: middle;\n",
       "    }\n",
       "\n",
       "    .dataframe tbody tr th {\n",
       "        vertical-align: top;\n",
       "    }\n",
       "\n",
       "    .dataframe thead th {\n",
       "        text-align: right;\n",
       "    }\n",
       "</style>\n",
       "<table border=\"1\" class=\"dataframe\">\n",
       "  <thead>\n",
       "    <tr style=\"text-align: right;\">\n",
       "      <th></th>\n",
       "      <th>Work</th>\n",
       "      <th>Price</th>\n",
       "      <th>Salary</th>\n",
       "    </tr>\n",
       "    <tr>\n",
       "      <th>City</th>\n",
       "      <th></th>\n",
       "      <th></th>\n",
       "      <th></th>\n",
       "    </tr>\n",
       "  </thead>\n",
       "  <tbody>\n",
       "    <tr>\n",
       "      <th>Amsterdam</th>\n",
       "      <td>-0.962166</td>\n",
       "      <td>-0.212712</td>\n",
       "      <td>0.386095</td>\n",
       "    </tr>\n",
       "    <tr>\n",
       "      <th>Athens</th>\n",
       "      <td>-0.509827</td>\n",
       "      <td>-0.770489</td>\n",
       "      <td>-0.373488</td>\n",
       "    </tr>\n",
       "    <tr>\n",
       "      <th>Bogota</th>\n",
       "      <td>1.577891</td>\n",
       "      <td>-1.522069</td>\n",
       "      <td>-1.145323</td>\n",
       "    </tr>\n",
       "    <tr>\n",
       "      <th>Bombay</th>\n",
       "      <td>0.997969</td>\n",
       "      <td>-1.881316</td>\n",
       "      <td>-1.398517</td>\n",
       "    </tr>\n",
       "    <tr>\n",
       "      <th>Brussels</th>\n",
       "      <td>-0.996961</td>\n",
       "      <td>0.174896</td>\n",
       "      <td>0.447351</td>\n",
       "    </tr>\n",
       "  </tbody>\n",
       "</table>\n",
       "</div>"
      ],
      "text/plain": [
       "               Work     Price    Salary\n",
       "City                                   \n",
       "Amsterdam -0.962166 -0.212712  0.386095\n",
       "Athens    -0.509827 -0.770489 -0.373488\n",
       "Bogota     1.577891 -1.522069 -1.145323\n",
       "Bombay     0.997969 -1.881316 -1.398517\n",
       "Brussels  -0.996961  0.174896  0.447351"
      ]
     },
     "execution_count": 5,
     "metadata": {},
     "output_type": "execute_result"
    }
   ],
   "source": [
    "from sklearn import preprocessing\n",
    "\n",
    "# Выбираем один из вариантов стандартизации\n",
    "\n",
    "stand_1 = preprocessing.StandardScaler()\n",
    "# вычисляем параметры стандартизации (они сохраняются внутри объекта norm)\n",
    "stand_1.fit(df)\n",
    "# преобразуем данные\n",
    "X = stand_1.transform(df)\n",
    "# Получаем объект X -- матрицу класса numpy.ndarray.\n",
    "# Преобразуем её в объект класса pandas.DataFrame.\n",
    "X = pd.DataFrame(X, index=df.index, columns=df.columns)\n",
    "X.head()"
   ]
  },
  {
   "cell_type": "markdown",
   "metadata": {},
   "source": [
    "### Кластеризация"
   ]
  },
  {
   "cell_type": "code",
   "execution_count": 6,
   "metadata": {},
   "outputs": [
    {
     "data": {
      "text/plain": [
       "array([ 0.13000932,  0.20992596,  0.24101549,  0.26638013,  0.27962161,\n",
       "        0.28619313,  0.31145704,  0.31305006,  0.3489377 ,  0.38756772,\n",
       "        0.419298  ,  0.44645167,  0.45306282,  0.4905399 ,  0.50930475,\n",
       "        0.54142314,  0.54694673,  0.55560294,  0.6525312 ,  0.70695573,\n",
       "        0.71322146,  0.73106836,  0.80923253,  0.81996004,  0.83440954,\n",
       "        0.83591396,  0.92010068,  1.00797757,  1.07317494,  1.09798639,\n",
       "        1.18557963,  1.2661125 ,  1.34552527,  1.5346713 ,  1.60218207,\n",
       "        1.65009621,  1.67120837,  1.9067302 ,  2.91093293,  2.99369803,\n",
       "        3.40166518,  3.65965497,  4.85967779,  5.06109685, 12.40027153])"
      ]
     },
     "execution_count": 6,
     "metadata": {},
     "output_type": "execute_result"
    }
   ],
   "source": [
    "from scipy.cluster.hierarchy import dendrogram, linkage, fcluster\n",
    "# Информация о кластерах добавляется в таблицу данных в виде столбца\n",
    "link = linkage(X, 'ward', 'euclidean')\n",
    "X.head()\n",
    "dist = link[:, 2]\n",
    "dist"
   ]
  },
  {
   "cell_type": "markdown",
   "metadata": {},
   "source": [
    "### Каменистая осыпь\n",
    "Построим график Каменистая осыпь, чтобы корректно определить число кластеров. Будем использовать второй столбец матрицы link\n",
    "где хранятся расстояния между парами объединяемых кластеров. По построению, строки матрицы упорядочены по этой колонке."
   ]
  },
  {
   "cell_type": "code",
   "execution_count": 7,
   "metadata": {},
   "outputs": [
    {
     "data": {
      "text/plain": [
       "<matplotlib.lines.Line2D at 0x261fcc73850>"
      ]
     },
     "execution_count": 7,
     "metadata": {},
     "output_type": "execute_result"
    },
    {
     "data": {
      "image/png": "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\n",
      "text/plain": [
       "<Figure size 432x288 with 1 Axes>"
      ]
     },
     "metadata": {
      "needs_background": "light"
     },
     "output_type": "display_data"
    }
   ],
   "source": [
    "dist_rev = dist[::-1]\n",
    "idxs = range(1, len(dist) + 1)\n",
    "plt.plot(idxs, dist_rev, marker='o')\n",
    "plt.title('Distance between merged clusters')\n",
    "plt.xlabel('Step')\n",
    "plt.ylabel('Distance')\n",
    "#выделим на графике значение Distance, после которого расстояние между кластерами перестает значительно меняться \n",
    "plt.axhline(2.2, c='k', linestyle='dashed')"
   ]
  },
  {
   "cell_type": "markdown",
   "metadata": {},
   "source": [
    "На значение Distance = 2.2 расстояние перестает значительно меняться."
   ]
  },
  {
   "cell_type": "code",
   "execution_count": 8,
   "metadata": {},
   "outputs": [
    {
     "data": {
      "image/png": "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\n",
      "text/plain": [
       "<Figure size 576x576 with 1 Axes>"
      ]
     },
     "metadata": {
      "needs_background": "light"
     },
     "output_type": "display_data"
    }
   ],
   "source": [
    "fig = plt.figure(figsize=(8,8))\n",
    "dn = dendrogram(link, color_threshold = 2.2,orientation = \"right\",labels=df.index.tolist())"
   ]
  },
  {
   "cell_type": "markdown",
   "metadata": {},
   "source": [
    "На дендрограмме видно, что число кластеров равно 8.  \n",
    "Добавляем столбец cluster к таблице данных"
   ]
  },
  {
   "cell_type": "code",
   "execution_count": 9,
   "metadata": {},
   "outputs": [
    {
     "data": {
      "text/html": [
       "<div>\n",
       "<style scoped>\n",
       "    .dataframe tbody tr th:only-of-type {\n",
       "        vertical-align: middle;\n",
       "    }\n",
       "\n",
       "    .dataframe tbody tr th {\n",
       "        vertical-align: top;\n",
       "    }\n",
       "\n",
       "    .dataframe thead th {\n",
       "        text-align: right;\n",
       "    }\n",
       "</style>\n",
       "<table border=\"1\" class=\"dataframe\">\n",
       "  <thead>\n",
       "    <tr style=\"text-align: right;\">\n",
       "      <th></th>\n",
       "      <th>Work</th>\n",
       "      <th>Price</th>\n",
       "      <th>Salary</th>\n",
       "    </tr>\n",
       "    <tr>\n",
       "      <th>cluster</th>\n",
       "      <th></th>\n",
       "      <th></th>\n",
       "      <th></th>\n",
       "    </tr>\n",
       "  </thead>\n",
       "  <tbody>\n",
       "    <tr>\n",
       "      <th>1</th>\n",
       "      <td>1874.000000</td>\n",
       "      <td>97.950000</td>\n",
       "      <td>95.150000</td>\n",
       "    </tr>\n",
       "    <tr>\n",
       "      <th>2</th>\n",
       "      <td>1733.750000</td>\n",
       "      <td>113.850000</td>\n",
       "      <td>59.375000</td>\n",
       "    </tr>\n",
       "    <tr>\n",
       "      <th>3</th>\n",
       "      <td>1960.000000</td>\n",
       "      <td>75.820000</td>\n",
       "      <td>59.480000</td>\n",
       "    </tr>\n",
       "    <tr>\n",
       "      <th>4</th>\n",
       "      <td>1732.000000</td>\n",
       "      <td>78.135714</td>\n",
       "      <td>53.614286</td>\n",
       "    </tr>\n",
       "    <tr>\n",
       "      <th>5</th>\n",
       "      <td>1798.857143</td>\n",
       "      <td>50.942857</td>\n",
       "      <td>19.214286</td>\n",
       "    </tr>\n",
       "    <tr>\n",
       "      <th>6</th>\n",
       "      <td>2260.000000</td>\n",
       "      <td>74.050000</td>\n",
       "      <td>31.150000</td>\n",
       "    </tr>\n",
       "    <tr>\n",
       "      <th>7</th>\n",
       "      <td>2143.400000</td>\n",
       "      <td>40.180000</td>\n",
       "      <td>8.900000</td>\n",
       "    </tr>\n",
       "    <tr>\n",
       "      <th>8</th>\n",
       "      <td>1988.000000</td>\n",
       "      <td>56.385714</td>\n",
       "      <td>14.571429</td>\n",
       "    </tr>\n",
       "  </tbody>\n",
       "</table>\n",
       "</div>"
      ],
      "text/plain": [
       "                Work       Price     Salary\n",
       "cluster                                    \n",
       "1        1874.000000   97.950000  95.150000\n",
       "2        1733.750000  113.850000  59.375000\n",
       "3        1960.000000   75.820000  59.480000\n",
       "4        1732.000000   78.135714  53.614286\n",
       "5        1798.857143   50.942857  19.214286\n",
       "6        2260.000000   74.050000  31.150000\n",
       "7        2143.400000   40.180000   8.900000\n",
       "8        1988.000000   56.385714  14.571429"
      ]
     },
     "execution_count": 9,
     "metadata": {},
     "output_type": "execute_result"
    }
   ],
   "source": [
    "df['cluster'] = fcluster(link, 8, criterion='maxclust')\n",
    "#Выведем значение каждого кластера\n",
    "df.groupby('cluster').mean()"
   ]
  },
  {
   "cell_type": "code",
   "execution_count": 10,
   "metadata": {},
   "outputs": [
    {
     "name": "stdout",
     "output_type": "stream",
     "text": [
      "Медиана work =  1849.0\n",
      "Медиана price =  70.94999999999999\n",
      "Медиана salary =  43.65\n"
     ]
    }
   ],
   "source": [
    "print ('Медиана work = ',df['Work'].median())\n",
    "print ('Медиана price = ',df['Price'].median())\n",
    "print ('Медиана salary = ',df['Salary'].median())"
   ]
  },
  {
   "cell_type": "markdown",
   "metadata": {},
   "source": [
    "Посмотрим какие города попали в какой кластер"
   ]
  },
  {
   "cell_type": "code",
   "execution_count": 11,
   "metadata": {},
   "outputs": [
    {
     "data": {
      "text/plain": [
       "City\n",
       "Zurich            1\n",
       "Geneva            1\n",
       "Tokyo             2\n",
       "Helsinki          2\n",
       "Stockholm         2\n",
       "Oslo              2\n",
       "Houston           3\n",
       "Los_Angeles       3\n",
       "New_York          3\n",
       "Toronto           3\n",
       "Chicago           3\n",
       "Montreal          4\n",
       "Milan             4\n",
       "Madrid            4\n",
       "Paris             4\n",
       "Sydney            4\n",
       "Vienna            4\n",
       "London            4\n",
       "Amsterdam         4\n",
       "Luxembourg        4\n",
       "Brussels          4\n",
       "Frankfurt         4\n",
       "Dusseldorf        4\n",
       "Dublin            4\n",
       "Copenhagen        4\n",
       "Athens            5\n",
       "Seoul             5\n",
       "San_Paulo         5\n",
       "Rio_de_Janeiro    5\n",
       "Lagos             5\n",
       "Lisbon            5\n",
       "Nicosia           5\n",
       "Hong_Kong         6\n",
       "Taipei            6\n",
       "Manila            7\n",
       "Bombay            7\n",
       "Bogota            7\n",
       "Kuala_Lumpur      7\n",
       "Panama            7\n",
       "Caracas           8\n",
       "Nairobi           8\n",
       "Buenos_Aires      8\n",
       "Mexico_City       8\n",
       "Singpore          8\n",
       "Johannesburg      8\n",
       "Tel_Aviv          8\n",
       "Name: cluster, dtype: int32"
      ]
     },
     "execution_count": 11,
     "metadata": {},
     "output_type": "execute_result"
    }
   ],
   "source": [
    "df['cluster'].sort_values()"
   ]
  },
  {
   "cell_type": "markdown",
   "metadata": {},
   "source": [
    "### **Оценка групп** \n",
    "----\n",
    " #### **В 8 группе** \n",
    "Города с высоким рабочим средневзвешенным, низкими показателями цен и низкими заработными платами\n",
    " В эту группу входят города Южной Америки, Южной и Восточной Африки, Южной Азии\n",
    "\n",
    " #### **в 7 города** \n",
    " с высоким рабочим средневзвешенным, низкими ценами и низкой зарплатой\n",
    " В эту группу входят города Севера Южной Америки и Юго-Восточной Азии\n",
    " Заметим, что имеет сымсл объединить эти позиции в 1 кластер\n",
    "\n",
    "\n",
    " #### **в 6 группе** \n",
    " Страны с высоким рабочим средневзвешенным, средними показателями цен и зарплат\n",
    " В эту группу входят крупные города Китая\n",
    "\n",
    " #### **в 5 группе**\n",
    " Города со средним рабочим средневзвешенным, низкими показателями цен и заработных плат\n",
    " В эту группу входят портовые города Южной Европы, Южной Америки, Кипра, города Сеул и Лагос \n",
    "\n",
    " #### **в 4 города**\n",
    " С низким рабочим средневзвешенным, высокими ценами и средней зарплатой\n",
    " В эту группу входят крупные города Западной и Южной Европы, город Сидней\n",
    "\n",
    " #### **в 3 группе**\n",
    " Страны с высоким рабочим средневзвешенным, средним показателем цен и высокими зарплатами\n",
    " В эту группу входят крупные города США и Канады\n",
    "\n",
    " #### **в 2 группе**\n",
    " Низкое рабочее средневзвешенное, высокое значение цен и заработной платы\n",
    " В эту группу входят крупные города Северной Европы и Токио\n",
    "\n",
    " #### **в 1 группе**\n",
    " Среднее рабочее средневзвешенное, высокие показатели цен и заработной платы. \n",
    " В эту группу входят крупные города Швейцарии: Женева и Цюрих"
   ]
  },
  {
   "cell_type": "markdown",
   "metadata": {},
   "source": [
    "Попоробуем увеличить расстояние, чтобы кластеров стало 7 и посмотрим на значения ключевых показателей в этой случае\n",
    "Добавляем столбец cluster к таблице данных"
   ]
  },
  {
   "cell_type": "code",
   "execution_count": 12,
   "metadata": {},
   "outputs": [
    {
     "data": {
      "text/html": [
       "<div>\n",
       "<style scoped>\n",
       "    .dataframe tbody tr th:only-of-type {\n",
       "        vertical-align: middle;\n",
       "    }\n",
       "\n",
       "    .dataframe tbody tr th {\n",
       "        vertical-align: top;\n",
       "    }\n",
       "\n",
       "    .dataframe thead th {\n",
       "        text-align: right;\n",
       "    }\n",
       "</style>\n",
       "<table border=\"1\" class=\"dataframe\">\n",
       "  <thead>\n",
       "    <tr style=\"text-align: right;\">\n",
       "      <th></th>\n",
       "      <th>Work</th>\n",
       "      <th>Price</th>\n",
       "      <th>Salary</th>\n",
       "    </tr>\n",
       "    <tr>\n",
       "      <th>cluster</th>\n",
       "      <th></th>\n",
       "      <th></th>\n",
       "      <th></th>\n",
       "    </tr>\n",
       "  </thead>\n",
       "  <tbody>\n",
       "    <tr>\n",
       "      <th>1</th>\n",
       "      <td>1780.500000</td>\n",
       "      <td>108.550000</td>\n",
       "      <td>71.300000</td>\n",
       "    </tr>\n",
       "    <tr>\n",
       "      <th>2</th>\n",
       "      <td>1960.000000</td>\n",
       "      <td>75.820000</td>\n",
       "      <td>59.480000</td>\n",
       "    </tr>\n",
       "    <tr>\n",
       "      <th>3</th>\n",
       "      <td>1732.000000</td>\n",
       "      <td>78.135714</td>\n",
       "      <td>53.614286</td>\n",
       "    </tr>\n",
       "    <tr>\n",
       "      <th>4</th>\n",
       "      <td>1798.857143</td>\n",
       "      <td>50.942857</td>\n",
       "      <td>19.214286</td>\n",
       "    </tr>\n",
       "    <tr>\n",
       "      <th>5</th>\n",
       "      <td>2260.000000</td>\n",
       "      <td>74.050000</td>\n",
       "      <td>31.150000</td>\n",
       "    </tr>\n",
       "    <tr>\n",
       "      <th>6</th>\n",
       "      <td>2052.750000</td>\n",
       "      <td>49.633333</td>\n",
       "      <td>12.208333</td>\n",
       "    </tr>\n",
       "  </tbody>\n",
       "</table>\n",
       "</div>"
      ],
      "text/plain": [
       "                Work       Price     Salary\n",
       "cluster                                    \n",
       "1        1780.500000  108.550000  71.300000\n",
       "2        1960.000000   75.820000  59.480000\n",
       "3        1732.000000   78.135714  53.614286\n",
       "4        1798.857143   50.942857  19.214286\n",
       "5        2260.000000   74.050000  31.150000\n",
       "6        2052.750000   49.633333  12.208333"
      ]
     },
     "execution_count": 12,
     "metadata": {},
     "output_type": "execute_result"
    }
   ],
   "source": [
    "df['cluster'] = fcluster(link, 6, criterion='maxclust')\n",
    "df.groupby('cluster').mean()"
   ]
  },
  {
   "cell_type": "code",
   "execution_count": 13,
   "metadata": {},
   "outputs": [
    {
     "name": "stdout",
     "output_type": "stream",
     "text": [
      "Медиана work =  1849.0\n",
      "Медиана price =  70.94999999999999\n",
      "Медиана salary =  43.65\n"
     ]
    }
   ],
   "source": [
    "print ('Медиана work = ',df['Work'].median())\n",
    "print ('Медиана price = ',df['Price'].median())\n",
    "print ('Медиана salary = ',df['Salary'].median())"
   ]
  },
  {
   "cell_type": "markdown",
   "metadata": {},
   "source": [
    "## Какие города где находятся"
   ]
  },
  {
   "cell_type": "code",
   "execution_count": 14,
   "metadata": {},
   "outputs": [
    {
     "data": {
      "text/plain": [
       "City\n",
       "Zurich            1\n",
       "Tokyo             1\n",
       "Helsinki          1\n",
       "Stockholm         1\n",
       "Geneva            1\n",
       "Oslo              1\n",
       "Houston           2\n",
       "Los_Angeles       2\n",
       "New_York          2\n",
       "Toronto           2\n",
       "Chicago           2\n",
       "Montreal          3\n",
       "Milan             3\n",
       "Madrid            3\n",
       "Paris             3\n",
       "Sydney            3\n",
       "Vienna            3\n",
       "London            3\n",
       "Amsterdam         3\n",
       "Luxembourg        3\n",
       "Brussels          3\n",
       "Frankfurt         3\n",
       "Dusseldorf        3\n",
       "Dublin            3\n",
       "Copenhagen        3\n",
       "Athens            4\n",
       "Seoul             4\n",
       "San_Paulo         4\n",
       "Rio_de_Janeiro    4\n",
       "Lagos             4\n",
       "Lisbon            4\n",
       "Nicosia           4\n",
       "Hong_Kong         5\n",
       "Taipei            5\n",
       "Caracas           6\n",
       "Nairobi           6\n",
       "Buenos_Aires      6\n",
       "Mexico_City       6\n",
       "Manila            6\n",
       "Singpore          6\n",
       "Johannesburg      6\n",
       "Bombay            6\n",
       "Tel_Aviv          6\n",
       "Bogota            6\n",
       "Kuala_Lumpur      6\n",
       "Panama            6\n",
       "Name: cluster, dtype: int32"
      ]
     },
     "execution_count": 14,
     "metadata": {},
     "output_type": "execute_result"
    }
   ],
   "source": [
    "df['cluster'].sort_values()"
   ]
  },
  {
   "cell_type": "markdown",
   "metadata": {},
   "source": [
    "## Вывод\n",
    "---\n",
    "#### в 6 города \n",
    "С высоким рабочим средневзвешенным, низкими ценами и низкой зарплатой\n",
    "В эту группу входят города Южной Америки и Юго-Восточной Азии и Восточной Африки\n",
    "#### в 5 группе\n",
    "Города  с высоким рабочим средневзвешенным, средними показателями цен и зарплат\n",
    "В эту группу входят крупные города Китая\n",
    "\n",
    "#### в 4 группе\n",
    "Города со средним рабочим средневзвешенным, низкими показателями цен и заработных плат\n",
    "В эту группу входят города  Южной Европы, Южной Америки (Бразилия), Кипра, города Сеул и Лагос \n",
    "\n",
    "#### в 3 города\n",
    "С низким рабочим средневзвешенным, высокими ценами и средней зарплатой\n",
    " В эту группу входят крупные города Западной, Центральной и Южной Европы, города Сидней и Монреаль\n",
    "\n",
    "#### во 2 группе \n",
    "Города с высоким рабочим средневзвешенным, средним показателем цен и высокими зарплатами\n",
    " В эту группу входят крупные города Северной Америки\n",
    "\n",
    "#### в 1 группе\n",
    "Низкое рабочее средневзвешенное, высокие показатели цен и заработной платы. В эту группу входят крупные города Швейцарии, Северной Европы и город Токио\n",
    "\n",
    "Поскольку разница в показателях в различных кластерах теперь достаточно велика, приходим к выводу, что \n",
    "такое деление на кластеры оптимально"
   ]
  }
 ],
 "metadata": {
  "kernelspec": {
   "display_name": "Python 3",
   "language": "python",
   "name": "python3"
  },
  "language_info": {
   "codemirror_mode": {
    "name": "ipython",
    "version": 3
   },
   "file_extension": ".py",
   "mimetype": "text/x-python",
   "name": "python",
   "nbconvert_exporter": "python",
   "pygments_lexer": "ipython3",
   "version": "3.8.5"
  }
 },
 "nbformat": 4,
 "nbformat_minor": 4
}
